{
 "cells": [
  {
   "cell_type": "code",
   "execution_count": 2,
   "metadata": {},
   "outputs": [],
   "source": [
    "# !pip install numpy matplotlib pandas tensorflow scikit-learn scipy\n",
    "import numpy as np\n",
    "import pandas as pd\n",
    "import matplotlib.pyplot as plt\n",
    "import tensorflow as tf\n",
    "from tensorflow import keras    \n",
    "from sklearn.model_selection import train_test_split\n",
    "import scipy.io \n",
    "import os"
   ]
  },
  {
   "cell_type": "code",
   "execution_count": null,
   "metadata": {},
   "outputs": [],
   "source": [
    "train_ds = keras.utils.image_dataset_from_directory(\n",
    "    directory = 'D:/Development/Dataset/Bone_Fracture/train',\n",
    "    labels='inferred',\n",
    "    label_mode = 'int',\n",
    "    batch_size=32,\n",
    "    image_size=(512,512)\n",
    ")\n",
    "validation_ds = keras.utils.image_dataset_from_directory(\n",
    "    directory = 'D:/Development/Dataset/Bone_Fracture/val',\n",
    "    labels='inferred',\n",
    "    label_mode = 'int',\n",
    "    batch_size=32,\n",
    "    image_size=(512,512)\n",
    ")\n",
    "test_ds = keras.utils.image_dataset_from_directory(\n",
    "    directory = 'D:/Development/Dataset/Bone_Fracture/test',\n",
    "    labels='inferred',\n",
    "    label_mode = 'int',\n",
    "    batch_size=32,\n",
    "    image_size=(512,512)\n",
    ")"
   ]
  },
  {
   "cell_type": "code",
   "execution_count": null,
   "metadata": {},
   "outputs": [],
   "source": [
    "# Normalize\n",
    "def process(image,label):\n",
    "    image = tf.cast(image/255. ,tf.float32)\n",
    "    return image,label\n",
    "\n",
    "train_ds = train_ds.map(process)\n",
    "validation_ds = validation_ds.map(process)\n",
    "test_ds=validation_ds.map(process)"
   ]
  },
  {
   "cell_type": "code",
   "execution_count": null,
   "metadata": {},
   "outputs": [],
   "source": [
    "from keras.models import Model\n",
    "from keras.layers import *"
   ]
  },
  {
   "cell_type": "code",
   "execution_count": null,
   "metadata": {},
   "outputs": [],
   "source": [
    "x= Input(shape=(512,512,3))"
   ]
  },
  {
   "cell_type": "code",
   "execution_count": null,
   "metadata": {},
   "outputs": [],
   "source": [
    "from tensorflow.keras.layers import Dense, BatchNormalization, MaxPool2D, Flatten, Conv2D, Input, Add, ReLU\n",
    "from tensorflow.keras.models import Model\n",
    "from tensorflow.keras.layers import GlobalAveragePooling2D\n",
    "\n",
    "def resnet_block(x, filters, kernel_size=3, strides=1, downsample=False):\n",
    "    shortcut = x\n",
    "    conv = Conv2D(filters, kernel_size, strides=strides, padding='same')(x)\n",
    "    bnorm = BatchNormalization()(conv)\n",
    "    relu = ReLU()(bnorm)\n",
    "    conv = Conv2D(filters, kernel_size, padding='same')(relu)\n",
    "    bnorm = BatchNormalization()(conv)\n",
    "    \n",
    "    if downsample:\n",
    "        shortcut = Conv2D(filters, (1, 1), strides=strides, padding='same')(x)\n",
    "        shortcut = BatchNormalization()(shortcut)\n",
    "    \n",
    "    add = Add()([shortcut, bnorm])\n",
    "    output = ReLU()(add)\n",
    "    return output\n",
    "\n",
    "input_shape = (224, 224, 3)\n",
    "x = Input(shape=input_shape)\n",
    "\n",
    "# Initial Conv Layer\n",
    "conv1 = Conv2D(64, (7, 7), strides=2, padding='same', activation='relu')(x)\n",
    "bNorm1 = BatchNormalization()(conv1)\n",
    "maxpool1 = MaxPool2D((3, 3), strides=2)(bNorm1)\n",
    "\n",
    "# Adding ResNet Blocks\n",
    "res_block1 = resnet_block(maxpool1, 64)\n",
    "res_block2 = resnet_block(res_block1, 64)\n",
    "res_block3 = resnet_block(res_block2, 128, strides=2, downsample=True)  # Downsample\n",
    "res_block4 = resnet_block(res_block3, 128)\n",
    "\n",
    "# Global Average Pooling and Output\n",
    "gap = GlobalAveragePooling2D()(res_block4)\n",
    "output = Dense(1000, activation='softmax')(gap)  # Assuming 1000 classes\n",
    "\n",
    "model = Model(inputs=x, outputs=output)\n",
    "\n",
    "model.summary()\n"
   ]
  },
  {
   "cell_type": "code",
   "execution_count": null,
   "metadata": {},
   "outputs": [],
   "source": [
    "from keras.utils import plot_model\n",
    "plot_model(model,show_shapes=True)"
   ]
  },
  {
   "cell_type": "code",
   "execution_count": null,
   "metadata": {},
   "outputs": [],
   "source": []
  },
  {
   "cell_type": "code",
   "execution_count": null,
   "metadata": {},
   "outputs": [],
   "source": []
  }
 ],
 "metadata": {
  "kernelspec": {
   "display_name": "Python 3",
   "language": "python",
   "name": "python3"
  },
  "language_info": {
   "codemirror_mode": {
    "name": "ipython",
    "version": 3
   },
   "file_extension": ".py",
   "mimetype": "text/x-python",
   "name": "python",
   "nbconvert_exporter": "python",
   "pygments_lexer": "ipython3",
   "version": "3.12.3"
  }
 },
 "nbformat": 4,
 "nbformat_minor": 2
}
